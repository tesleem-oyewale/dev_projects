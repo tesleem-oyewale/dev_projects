{
 "cells": [
  {
   "cell_type": "markdown",
   "metadata": {},
   "source": [
    "# U.S. Medical Insurance Costs"
   ]
  },
  {
   "attachments": {},
   "cell_type": "markdown",
   "metadata": {},
   "source": [
    "Find out the average age of the patients in the dataset."
   ]
  },
  {
   "cell_type": "code",
   "execution_count": 6,
   "metadata": {},
   "outputs": [
    {
     "name": "stdout",
     "output_type": "stream",
     "text": [
      "1919\n"
     ]
    }
   ],
   "source": [
    "ages = []\n",
    "import csv\n",
    "with open(\"insurance.csv\") as insurance_csv:\n",
    "    insurance_csv_dict = csv.DictReader(insurance_csv)\n",
    "    for row in insurance_csv_dict:\n",
    "        ages.append(row[\"age\"])\n",
    "\n",
    "def average(list):\n",
    "    for quantity in list:\n",
    "        quantity += quantity\n",
    "        return quantity\n",
    "    average = quantity / len(list)\n",
    "    return average\n",
    "\n",
    "print(average(ages))\n",
    "\n"
   ]
  },
  {
   "attachments": {},
   "cell_type": "markdown",
   "metadata": {},
   "source": [
    "Analyze where a majority of the individuals are from."
   ]
  },
  {
   "cell_type": "code",
   "execution_count": 35,
   "metadata": {},
   "outputs": [
    {
     "name": "stdout",
     "output_type": "stream",
     "text": [
      "{'southwest': 325, 'southeast': 364, 'northwest': 325, 'northeast': 324}\n",
      "[('northeast', 324), ('northwest', 325), ('southeast', 364), ('southwest', 325)]\n"
     ]
    }
   ],
   "source": [
    "import csv\n",
    "region_count = {}\n",
    "\n",
    "with open(\"insurance.csv\") as insurance_csv:\n",
    "    insurance_csv_dict = csv.DictReader(insurance_csv)\n",
    "    for row in insurance_csv_dict:\n",
    "        current_region = row[\"region\"]\n",
    "        if current_region in region_count:\n",
    "            region_count[current_region] += 1\n",
    "        else:\n",
    "            region_count[current_region] = 1\n",
    "    print(region_count)\n",
    "    region_count_sorted = region_count.items()\n",
    "    print(sorted(region_count_sorted))\n"
   ]
  },
  {
   "attachments": {},
   "cell_type": "markdown",
   "metadata": {},
   "source": [
    "Look at the different costs between smokers vs. non-smokers."
   ]
  },
  {
   "cell_type": "code",
   "execution_count": 50,
   "metadata": {},
   "outputs": [
    {
     "name": "stdout",
     "output_type": "stream",
     "text": [
      "Those who said yes to smoking have a total cost of 8781763.52184 \n",
      "while those who said no to smoking have a total cost of 8974061.468918996\n",
      "\n",
      "As a result, the difference in these numbers is -192297.95. \n",
      "This value has been rounded to 2 decimal places\n"
     ]
    }
   ],
   "source": [
    "import csv\n",
    "smoking_status = {}\n",
    "\n",
    "with open(\"insurance.csv\") as insurance_csv:\n",
    "    insurance_csv_dict = csv.DictReader(insurance_csv)\n",
    "    for row in insurance_csv_dict:\n",
    "        smoking_row = row[\"smoker\"]\n",
    "        insurance_cost = row[\"charges\"]\n",
    "        if smoking_row in smoking_status:\n",
    "            smoking_status[smoking_row] += float(insurance_cost)\n",
    "        else:\n",
    "            smoking_status[smoking_row] = float(insurance_cost) \n",
    "    # print(smoking_status[\"yes\"])       \n",
    "    print(\"Those who said yes to smoking have a total cost of {} \\nwhile those who said no to smoking have a total cost of {}\".format(smoking_status[\"yes\"], smoking_status[\"no\"]))\n",
    "    print(\"\\nAs a result, the difference in these numbers is {}. \\nThis value has been rounded to 2 decimal places\".format(round(float(smoking_status[\"yes\"] - smoking_status[\"no\"]), 2)))\n"
   ]
  },
  {
   "attachments": {},
   "cell_type": "markdown",
   "metadata": {},
   "source": [
    "Figure out what the average age is for someone who has at least one child in this dataset."
   ]
  },
  {
   "cell_type": "code",
   "execution_count": 63,
   "metadata": {},
   "outputs": [
    {
     "name": "stdout",
     "output_type": "stream",
     "text": [
      "The average age of people with children is 40.0 rounded up.\n"
     ]
    }
   ],
   "source": [
    "import csv\n",
    "age_with_children = []\n",
    "\n",
    "with open(\"insurance.csv\") as insurance_csv:\n",
    "    insurance_csv_dict = csv.DictReader(insurance_csv)\n",
    "    for row in insurance_csv_dict:\n",
    "        age = row[\"age\"]\n",
    "        if int(row[\"children\"]) > 0:\n",
    "            age_with_children.append(int(age))\n",
    "sum_age = sum(age_with_children)\n",
    "len_age = len(age_with_children)\n",
    "\n",
    "print(\"The average age of people with children is {} rounded up.\".format(round(sum_age/len_age, 0)))\n",
    "\n"
   ]
  }
 ],
 "metadata": {
  "kernelspec": {
   "display_name": "Python 3",
   "language": "python",
   "name": "python3"
  },
  "language_info": {
   "codemirror_mode": {
    "name": "ipython",
    "version": 3
   },
   "file_extension": ".py",
   "mimetype": "text/x-python",
   "name": "python",
   "nbconvert_exporter": "python",
   "pygments_lexer": "ipython3",
   "version": "3.9.6"
  }
 },
 "nbformat": 4,
 "nbformat_minor": 4
}
